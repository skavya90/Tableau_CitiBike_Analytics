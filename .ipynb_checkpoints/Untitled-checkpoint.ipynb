{
 "cells": [
  {
   "cell_type": "code",
   "execution_count": 1,
   "metadata": {},
   "outputs": [],
   "source": [
    "import pandas as pd"
   ]
  },
  {
   "cell_type": "markdown",
   "metadata": {},
   "source": [
    "# The Citibike data includes:\n",
    "\n",
    "Trip Duration (seconds), Start Time and Date, Stop Time and Date, Start Station Name, End Station Name, Station ID,\n",
    "Station Lat/Long, Bike ID, User Type (Customer = 24-hour pass or 3-day pass user; Subscriber = Annual Member), \n",
    "Gender (Zero=unknown; 1=male; 2=female), Year of Birth"
   ]
  },
  {
   "cell_type": "code",
   "execution_count": 39,
   "metadata": {},
   "outputs": [
    {
     "data": {
      "text/plain": [
       "tripduration               20205\n",
       "starttime                  20205\n",
       "stoptime                   20205\n",
       "start station id           20205\n",
       "start station name         20205\n",
       "start station latitude     20205\n",
       "start station longitude    20205\n",
       "end station id             20205\n",
       "end station name           20205\n",
       "end station latitude       20205\n",
       "end station longitude      20205\n",
       "bikeid                     20205\n",
       "usertype                   20205\n",
       "birth year                 20205\n",
       "gender                     20205\n",
       "dtype: int64"
      ]
     },
     "execution_count": 39,
     "metadata": {},
     "output_type": "execute_result"
    }
   ],
   "source": [
    "Jun18 = pd.read_csv(\"./Citibike_Tripdata/JC-201806-citibike-tripdata.csv\")\n",
    "Jul18 = pd.read_csv(\"./Citibike_Tripdata/JC-201807-citibike-tripdata.csv\")\n",
    "Aug18 = pd.read_csv(\"./Citibike_Tripdata/JC-201808-citibike-tripdata.csv\")\n",
    "Sep18 = pd.read_csv(\"./Citibike_Tripdata/JC-201809-citibike-tripdata.csv\")\n",
    "Oct18 = pd.read_csv(\"./Citibike_Tripdata/JC-201810-citibike-tripdata.csv\")\n",
    "Nov18 = pd.read_csv(\"./Citibike_Tripdata/JC-201811-citibike-tripdata.csv\")\n",
    "Dec18 = pd.read_csv(\"./Citibike_Tripdata/JC-201812-citibike-tripdata.csv\")\n",
    "Dec18.count()"
   ]
  },
  {
   "cell_type": "code",
   "execution_count": 44,
   "metadata": {
    "scrolled": true
   },
   "outputs": [
    {
     "data": {
      "text/plain": [
       "tripduration               36135\n",
       "starttime                  36135\n",
       "stoptime                   36135\n",
       "start station id           36135\n",
       "start station name         36135\n",
       "start station latitude     36135\n",
       "start station longitude    36135\n",
       "end station id             36135\n",
       "end station name           36135\n",
       "end station latitude       36135\n",
       "end station longitude      36135\n",
       "bikeid                     36135\n",
       "usertype                   36135\n",
       "birth year                 36135\n",
       "gender                     36135\n",
       "dtype: int64"
      ]
     },
     "execution_count": 44,
     "metadata": {},
     "output_type": "execute_result"
    }
   ],
   "source": [
    "Jan19 = pd.read_csv(\"./Citibike_Tripdata/JC-201901-citibike-tripdata.csv\")\n",
    "Feb19 = pd.read_csv(\"./Citibike_Tripdata/JC-201902-citibike-tripdata.csv\")\n",
    "Mar19 = pd.read_csv(\"./Citibike_Tripdata/JC-201903-citibike-tripdata.csv\")\n",
    "Apr19 = pd.read_csv(\"./Citibike_Tripdata/JC-201904-citibike-tripdata.csv\")\n",
    "May19 = pd.read_csv(\"./Citibike_Tripdata/JC-201905-citibike-tripdata.csv\")\n",
    "May19.count()"
   ]
  },
  {
   "cell_type": "code",
   "execution_count": 24,
   "metadata": {},
   "outputs": [],
   "source": [
    "last12months = pd.concat([Jun18,Jul18,Aug18,Sep18,Oct18,Nov18,Dec18,Jan19,Feb19,Mar19,Apr19,May19])"
   ]
  },
  {
   "cell_type": "code",
   "execution_count": 26,
   "metadata": {},
   "outputs": [
    {
     "data": {
      "text/html": [
       "<div>\n",
       "<style scoped>\n",
       "    .dataframe tbody tr th:only-of-type {\n",
       "        vertical-align: middle;\n",
       "    }\n",
       "\n",
       "    .dataframe tbody tr th {\n",
       "        vertical-align: top;\n",
       "    }\n",
       "\n",
       "    .dataframe thead th {\n",
       "        text-align: right;\n",
       "    }\n",
       "</style>\n",
       "<table border=\"1\" class=\"dataframe\">\n",
       "  <thead>\n",
       "    <tr style=\"text-align: right;\">\n",
       "      <th></th>\n",
       "      <th>tripduration</th>\n",
       "      <th>starttime</th>\n",
       "      <th>stoptime</th>\n",
       "      <th>start station id</th>\n",
       "      <th>start station name</th>\n",
       "      <th>start station latitude</th>\n",
       "      <th>start station longitude</th>\n",
       "      <th>end station id</th>\n",
       "      <th>end station name</th>\n",
       "      <th>end station latitude</th>\n",
       "      <th>end station longitude</th>\n",
       "      <th>bikeid</th>\n",
       "      <th>usertype</th>\n",
       "      <th>birth year</th>\n",
       "      <th>gender</th>\n",
       "    </tr>\n",
       "  </thead>\n",
       "  <tbody>\n",
       "    <tr>\n",
       "      <th>0</th>\n",
       "      <td>329</td>\n",
       "      <td>2018-06-01 07:07:00.2990</td>\n",
       "      <td>2018-06-01 07:12:30.2220</td>\n",
       "      <td>3183</td>\n",
       "      <td>Exchange Place</td>\n",
       "      <td>40.716247</td>\n",
       "      <td>-74.033459</td>\n",
       "      <td>3276</td>\n",
       "      <td>Marin Light Rail</td>\n",
       "      <td>40.714584</td>\n",
       "      <td>-74.042817</td>\n",
       "      <td>29513</td>\n",
       "      <td>Subscriber</td>\n",
       "      <td>1991</td>\n",
       "      <td>1</td>\n",
       "    </tr>\n",
       "    <tr>\n",
       "      <th>1</th>\n",
       "      <td>259</td>\n",
       "      <td>2018-06-01 08:24:43.8490</td>\n",
       "      <td>2018-06-01 08:29:03.8450</td>\n",
       "      <td>3183</td>\n",
       "      <td>Exchange Place</td>\n",
       "      <td>40.716247</td>\n",
       "      <td>-74.033459</td>\n",
       "      <td>3267</td>\n",
       "      <td>Morris Canal</td>\n",
       "      <td>40.712419</td>\n",
       "      <td>-74.038526</td>\n",
       "      <td>26221</td>\n",
       "      <td>Subscriber</td>\n",
       "      <td>1989</td>\n",
       "      <td>2</td>\n",
       "    </tr>\n",
       "    <tr>\n",
       "      <th>2</th>\n",
       "      <td>686</td>\n",
       "      <td>2018-06-01 09:17:49.5730</td>\n",
       "      <td>2018-06-01 09:29:16.1770</td>\n",
       "      <td>3183</td>\n",
       "      <td>Exchange Place</td>\n",
       "      <td>40.716247</td>\n",
       "      <td>-74.033459</td>\n",
       "      <td>3202</td>\n",
       "      <td>Newport PATH</td>\n",
       "      <td>40.727224</td>\n",
       "      <td>-74.033759</td>\n",
       "      <td>29266</td>\n",
       "      <td>Subscriber</td>\n",
       "      <td>1990</td>\n",
       "      <td>1</td>\n",
       "    </tr>\n",
       "    <tr>\n",
       "      <th>3</th>\n",
       "      <td>164</td>\n",
       "      <td>2018-06-01 09:44:00.4020</td>\n",
       "      <td>2018-06-01 09:46:44.6830</td>\n",
       "      <td>3183</td>\n",
       "      <td>Exchange Place</td>\n",
       "      <td>40.716247</td>\n",
       "      <td>-74.033459</td>\n",
       "      <td>3267</td>\n",
       "      <td>Morris Canal</td>\n",
       "      <td>40.712419</td>\n",
       "      <td>-74.038526</td>\n",
       "      <td>29472</td>\n",
       "      <td>Subscriber</td>\n",
       "      <td>1993</td>\n",
       "      <td>1</td>\n",
       "    </tr>\n",
       "    <tr>\n",
       "      <th>4</th>\n",
       "      <td>769</td>\n",
       "      <td>2018-06-01 09:59:28.7800</td>\n",
       "      <td>2018-06-01 10:12:18.6660</td>\n",
       "      <td>3183</td>\n",
       "      <td>Exchange Place</td>\n",
       "      <td>40.716247</td>\n",
       "      <td>-74.033459</td>\n",
       "      <td>3203</td>\n",
       "      <td>Hamilton Park</td>\n",
       "      <td>40.727596</td>\n",
       "      <td>-74.044247</td>\n",
       "      <td>33679</td>\n",
       "      <td>Subscriber</td>\n",
       "      <td>1977</td>\n",
       "      <td>1</td>\n",
       "    </tr>\n",
       "  </tbody>\n",
       "</table>\n",
       "</div>"
      ],
      "text/plain": [
       "   tripduration                 starttime                  stoptime  \\\n",
       "0           329  2018-06-01 07:07:00.2990  2018-06-01 07:12:30.2220   \n",
       "1           259  2018-06-01 08:24:43.8490  2018-06-01 08:29:03.8450   \n",
       "2           686  2018-06-01 09:17:49.5730  2018-06-01 09:29:16.1770   \n",
       "3           164  2018-06-01 09:44:00.4020  2018-06-01 09:46:44.6830   \n",
       "4           769  2018-06-01 09:59:28.7800  2018-06-01 10:12:18.6660   \n",
       "\n",
       "   start station id start station name  start station latitude  \\\n",
       "0              3183     Exchange Place               40.716247   \n",
       "1              3183     Exchange Place               40.716247   \n",
       "2              3183     Exchange Place               40.716247   \n",
       "3              3183     Exchange Place               40.716247   \n",
       "4              3183     Exchange Place               40.716247   \n",
       "\n",
       "   start station longitude  end station id  end station name  \\\n",
       "0               -74.033459            3276  Marin Light Rail   \n",
       "1               -74.033459            3267      Morris Canal   \n",
       "2               -74.033459            3202      Newport PATH   \n",
       "3               -74.033459            3267      Morris Canal   \n",
       "4               -74.033459            3203     Hamilton Park   \n",
       "\n",
       "   end station latitude  end station longitude  bikeid    usertype  \\\n",
       "0             40.714584             -74.042817   29513  Subscriber   \n",
       "1             40.712419             -74.038526   26221  Subscriber   \n",
       "2             40.727224             -74.033759   29266  Subscriber   \n",
       "3             40.712419             -74.038526   29472  Subscriber   \n",
       "4             40.727596             -74.044247   33679  Subscriber   \n",
       "\n",
       "   birth year  gender  \n",
       "0        1991       1  \n",
       "1        1989       2  \n",
       "2        1990       1  \n",
       "3        1993       1  \n",
       "4        1977       1  "
      ]
     },
     "execution_count": 26,
     "metadata": {},
     "output_type": "execute_result"
    }
   ],
   "source": [
    "last12months.head()"
   ]
  },
  {
   "cell_type": "code",
   "execution_count": 29,
   "metadata": {},
   "outputs": [],
   "source": [
    "last12months.to_csv(\"./last12months_data.csv\", sep=',')\n"
   ]
  },
  {
   "cell_type": "code",
   "execution_count": null,
   "metadata": {},
   "outputs": [],
   "source": []
  }
 ],
 "metadata": {
  "kernelspec": {
   "display_name": "Python [conda env:PythonData]",
   "language": "python",
   "name": "conda-env-PythonData-py"
  },
  "language_info": {
   "codemirror_mode": {
    "name": "ipython",
    "version": 3
   },
   "file_extension": ".py",
   "mimetype": "text/x-python",
   "name": "python",
   "nbconvert_exporter": "python",
   "pygments_lexer": "ipython3",
   "version": "3.6.7"
  }
 },
 "nbformat": 4,
 "nbformat_minor": 2
}
